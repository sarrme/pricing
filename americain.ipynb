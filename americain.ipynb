{
 "cells": [
  {
   "cell_type": "code",
   "execution_count": 1,
   "metadata": {},
   "outputs": [
    {
     "name": "stdout",
     "output_type": "stream",
     "text": [
      "2.4567334867990303\n"
     ]
    }
   ],
   "source": [
    "import numpy as np  \n",
    "m = 100 \n",
    "t = 0 \n",
    "s0 = 100       \n",
    "sigma=0.08  \n",
    "rho=0.02 \n",
    "T = 1 \n",
    "K=100 \n",
    "N = 100 \n",
    "def f(a,b,n,K,x): \n",
    "    index = np.arange(n+1)\n",
    "    c = K-(x*(1+a)**index * (1+b)**(n-index))\n",
    "    return np.where(c>0,c,0)\n",
    "\n",
    "def Fr(t,x,rho,sigma,T,K,m):\n",
    "    cte = (sigma*np.sqrt(T) /np.sqrt(m))  \n",
    "    b = np.exp(cte) - 1 \n",
    "    a = np.exp(-cte) - 1 \n",
    "    r = rho*T / m\n",
    "    n = round(m*T)- round(m*t) \n",
    "    V = np.zeros((n+1,n+1))\n",
    "    V[:,n] = f(a,b,n,K,x)\n",
    "    p  = (b-r) / (b-a) \n",
    "    for i in range(n-1,-1,-1): \n",
    "        S  = (1/(1+r))*((1-p)*V[0:i+1,i+1] + p*V[1:i+2,i+1])\n",
    "        M = np.c_[S,f(a,b,i,K,x)] \n",
    "        V[0:i+1,i] = np.max(M,axis = 1)\n",
    "    return V[0,0] \n",
    "    \n",
    "print(Fr(t,s0,rho,sigma,T,K,m))\n"
   ]
  },
  {
   "cell_type": "code",
   "execution_count": 2,
   "metadata": {
    "scrolled": true
   },
   "outputs": [
    {
     "data": {
      "text/plain": [
       "<Figure size 640x480 with 1 Axes>"
      ]
     },
     "metadata": {},
     "output_type": "display_data"
    }
   ],
   "source": [
    "m = 100\n",
    "from mpl_toolkits.mplot3d import Axes3D\n",
    "import matplotlib.pyplot as plt \n",
    "from matplotlib import cm \n",
    "N = 100 \n",
    "fig = plt.figure()\n",
    "ax = fig.gca(projection='3d')\n",
    "lt= np.linspace(T/N,T-T/N,N-2)\n",
    "Yt = np.linspace(0,20,N)\n",
    "ltm, Ym = np.meshgrid(lt, Yt)\n",
    "Vt = [[Fr(float(t),x,rho,sigma,T,K,m) for t in lt] for x in Yt] \n",
    "Vt = np.array(Vt)\n",
    "ax.plot_surface(ltm,Ym, Vt, cmap=cm.viridis)   \n",
    "plt.show() "
   ]
  },
  {
   "cell_type": "code",
   "execution_count": 3,
   "metadata": {},
   "outputs": [],
   "source": [
    "M= 250     \n",
    "N=1000\n",
    "KI=np.log(2*K) \n",
    "T=1 \n",
    "sigma=2 \n",
    "rho=3 \n",
    "K = 10 \n",
    "lt= np.linspace(0,T,N) \n",
    "dt=T/N\n",
    "dy= (2*KI/M)*np.linspace(0,M,M)\n",
    "dx=(2*K/M)\n",
    "Y= -KI*np.ones((1,M))+dy  \n",
    "\n",
    "\n",
    "A  = 2*np.eye(M) - np.eye(M, k=1) - np.eye(M, k=-1)  \n",
    "A[0,0:3]=[-1,2,-1]\n",
    "A[M-1,M-3:M]=[-1,2,-1]\n",
    "D=np.eye(M)-np.eye(M, k=1) \n",
    "V=np.zeros((M,N))\n",
    "f = lambda x: max(K-np.exp(x),0) \n",
    "f = np.vectorize(f) \n",
    "V[:,N-1]=f(Y)\n",
    "MM=np.eye(M)*(1-rho*dt)+dt*(rho-(sigma**2/2))/dx*D-A*(sigma**2)/2*dt/dx**2 \n",
    "MM[0,:]=np.zeros((1,M))\n",
    "MM[M-1,:]=np.zeros((1,M))  \n",
    "for i in range((N-2),-1,-1):\n",
    "    V[:,i]= np.maximum(np.dot(MM,V[:,i+1]), f(Y))\n"
   ]
  },
  {
   "cell_type": "code",
   "execution_count": 20,
   "metadata": {},
   "outputs": [
    {
     "name": "stdout",
     "output_type": "stream",
     "text": [
      "216\n"
     ]
    },
    {
     "data": {
      "text/plain": [
       "1.340185954520961"
      ]
     },
     "execution_count": 20,
     "metadata": {},
     "output_type": "execute_result"
    }
   ],
   "source": [
    " \n",
    "index = int((M/2)+(M*np.log(s0))/(2*KI)) \n",
    "print(index) \n",
    "V[index,0]"
   ]
  },
  {
   "cell_type": "code",
   "execution_count": 21,
   "metadata": {},
   "outputs": [
    {
     "name": "stdout",
     "output_type": "stream",
     "text": [
      "2.201682755262571\n",
      "----------\n",
      "2.1972245773362196\n"
     ]
    }
   ],
   "source": [
    "print(Y[0,index])  \n",
    "print(\"----------\")  \n",
    "print(np.log(s0))"
   ]
  },
  {
   "cell_type": "code",
   "execution_count": 38,
   "metadata": {},
   "outputs": [
    {
     "name": "stdout",
     "output_type": "stream",
     "text": [
      "The value of an American call option is 1.1999999999999993\n"
     ]
    }
   ],
   "source": [
    "import numpy as np\n",
    "def OptioncallE(s0,Smax,M,T,N,K,r,sigma):\n",
    "    \n",
    "    ds=Smax/float(M)   \n",
    "    dt=T/float(N)      \n",
    "    \n",
    "    i=np.arange(1,M,dtype=np.float)   \n",
    "    \n",
    "    \n",
    "    P=(-.5*r*dt*i+.5*sigma**2*dt*i**2)/(1+r*dt)\n",
    "    Q=(1-sigma**2*dt*i**2)/(1+r*dt)\n",
    "    R=(.5*r*dt*i+.5*sigma**2*dt*i**2)/(1+r*dt)\n",
    "    \n",
    "    A=np.diag(Q)+np.diag(P[1:],k=-1)+np.diag(R[0:M-2],k=1)\n",
    "    \n",
    "    F=np.zeros((N+1,M+1)) \n",
    "    \n",
    "    F[:,0]=0\n",
    "    F[:,M]=[Smax * np.exp(-r*( N - j)*dt) for j in range(N+1)]\n",
    "    F[N,:]=np.maximum(K-np.arange(0,Smax+ds/2.0,ds,dtype=np.float),0)\n",
    "    \n",
    "    F=np.matrix(np.array(F))\n",
    "    \n",
    "   \n",
    "    for j in range(N-1,-1,-1): \n",
    "        d=np.zeros((M-1,1))\n",
    "        \n",
    "        d[0]=P[0]*F[j+1,0] \n",
    "        d[M-2]=R[M-2]*F[j+1,M]\n",
    "        \n",
    "        F[j,1:M]=np.dot(F[j+1,1:M],A)+np.matrix(np.array(d)).transpose() #computation\n",
    "        F[j,:]=np.maximum(K-np.arange(0,Smax+ds/2.0,ds,dtype=np.float),F[j,:]) \n",
    "    return F[0,int(s0/ds)]\n",
    "    \n",
    "        \n",
    "print(\"The value of an American call option is\" , OptioncallE(s0,20,50,T,150,K,rho,sigma))                  "
   ]
  }
 ],
 "metadata": {
  "kernelspec": {
   "display_name": "Python 3",
   "language": "python",
   "name": "python3"
  },
  "language_info": {
   "codemirror_mode": {
    "name": "ipython",
    "version": 3
   },
   "file_extension": ".py",
   "mimetype": "text/x-python",
   "name": "python",
   "nbconvert_exporter": "python",
   "pygments_lexer": "ipython3",
   "version": "3.7.1"
  }
 },
 "nbformat": 4,
 "nbformat_minor": 2
}
